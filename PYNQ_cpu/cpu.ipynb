{
 "cells": [
  {
   "cell_type": "markdown",
   "id": "fe558359",
   "metadata": {},
   "source": [
    "# Single Cycle CPU Assignment\n",
    "## This Jupyter notebook will run the design on FPGA and display the maximum frequency of the design"
   ]
  },
  {
   "cell_type": "code",
   "execution_count": 1,
   "id": "7cd0f68a",
   "metadata": {},
   "outputs": [
    {
     "data": {
      "application/javascript": [
       "\n",
       "try {\n",
       "require(['notebook/js/codecell'], function(codecell) {\n",
       "  codecell.CodeCell.options_default.highlight_modes[\n",
       "      'magic_text/x-csrc'] = {'reg':[/^%%microblaze/]};\n",
       "  Jupyter.notebook.events.one('kernel_ready.Kernel', function(){\n",
       "      Jupyter.notebook.get_cells().map(function(cell){\n",
       "          if (cell.cell_type == 'code'){ cell.auto_highlight(); } }) ;\n",
       "  });\n",
       "});\n",
       "} catch (e) {};\n"
      ]
     },
     "metadata": {},
     "output_type": "display_data"
    },
    {
     "data": {
      "application/javascript": [
       "\n",
       "try {\n",
       "require(['notebook/js/codecell'], function(codecell) {\n",
       "  codecell.CodeCell.options_default.highlight_modes[\n",
       "      'magic_text/x-csrc'] = {'reg':[/^%%pybind11/]};\n",
       "  Jupyter.notebook.events.one('kernel_ready.Kernel', function(){\n",
       "      Jupyter.notebook.get_cells().map(function(cell){\n",
       "          if (cell.cell_type == 'code'){ cell.auto_highlight(); } }) ;\n",
       "  });\n",
       "});\n",
       "} catch (e) {};\n"
      ]
     },
     "metadata": {},
     "output_type": "display_data"
    }
   ],
   "source": [
    "from pynq import Overlay, Clocks"
   ]
  },
  {
   "cell_type": "code",
   "execution_count": 2,
   "id": "f75d5ba8",
   "metadata": {},
   "outputs": [],
   "source": [
    "# Function to write instructions to registers\n",
    "def write(idata):\n",
    "    f = open(idata, \"r\")\n",
    "    for count, line in enumerate(f.readlines()):\n",
    "        cpu_ip.write(int(count*4),int(line, 16))\n",
    "    \n",
    "\n",
    "# Function to read RISCV 32 Registers\n",
    "def read():\n",
    "    out = []\n",
    "    for i in range(32,64):\n",
    "        out.append(cpu_ip.read(int(i*4)))\n",
    "    return out\n"
   ]
  },
  {
   "cell_type": "code",
   "execution_count": 3,
   "id": "c919db2d",
   "metadata": {},
   "outputs": [
    {
     "name": "stdout",
     "output_type": "stream",
     "text": [
      "Testing idata1.txt\n",
      "\t Frequency at 50 MHz: Passed\n",
      "\t Frequency at 100 MHz: Passed\n",
      "\t Frequency at 125 MHz: Passed\n",
      "\t Frequency at 142 MHz: Passed\n",
      "\t Frequency at 200 MHz: Not passed\n",
      "Expected result:  [0, 7, 4, 0, 4, 5, 6, 7, 8, 9, 10, 11, 12, 13, 14, 15, 16, 17, 18, 19, 20, 21, 22, 23, 24, 25, 26, 27, 28, 29, 30, 1]\n",
      "Obtained result:  [0, 6, 4, 2052, 4, 5, 6, 7, 8, 9, 10, 11, 12, 13, 14, 15, 16, 17, 18, 19, 20, 21, 22, 23, 24, 25, 26, 27, 28, 29, 30, 0]\n",
      "\n",
      "\n",
      "Testing idata2.txt\n",
      "\t Frequency at 50 MHz: Passed\n",
      "\t Frequency at 100 MHz: Passed\n",
      "\t Frequency at 125 MHz: Passed\n",
      "\t Frequency at 142 MHz: Passed\n",
      "\t Frequency at 200 MHz: Not passed\n",
      "Expected result:  [0, 81920, 20, 16400, 28, 28, 44, 44, 8, 9, 10, 11, 12, 13, 14, 15, 16, 17, 18, 19, 20, 21, 22, 23, 24, 25, 26, 27, 28, 29, 30, 0]\n",
      "Obtained result:  [0, 16384, 5, 16400, 28, 28, 12, 7, 8, 9, 10, 11, 12, 13, 14, 15, 16, 17, 18, 19, 20, 21, 22, 23, 24, 25, 26, 27, 28, 29, 30, 0]\n",
      "\n",
      "\n",
      "Testing idata3.txt\n",
      "\t Frequency at 50 MHz: Passed\n",
      "\t Frequency at 100 MHz: Passed\n",
      "\t Frequency at 125 MHz: Passed\n",
      "\t Frequency at 142 MHz: Passed\n",
      "\t Frequency at 200 MHz: Not passed\n",
      "Expected result:  [0, 1, 2, 3, 4, 5, 0, 7, 8, 9, 0, 4, 60, 10, 60, 10, 70, 70, 18, 19, 20, 21, 22, 23, 24, 25, 26, 27, 28, 29, 30, 31]\n",
      "Obtained result:  [0, 1, 2, 3, 4, 5, 44, 71, 8, 9, 0, 4, 44, 10, 44, 10, 52, 54, 18, 19, 20, 21, 22, 23, 26, 25, 26, 27, 28, 29, 30, 31]\n",
      "\n",
      "\n",
      "Testing idata4.txt\n",
      "\t Frequency at 50 MHz: Passed\n",
      "\t Frequency at 100 MHz: Passed\n",
      "\t Frequency at 125 MHz: Passed\n",
      "\t Frequency at 142 MHz: Passed\n",
      "\t Frequency at 200 MHz: Not passed\n",
      "Expected result:  [0, 1, 2, 3, 4, 5, 6, 7, 8, 9, 10, 11, 12, 13, 14, 10, 16, 17, 18, 19, 20, 21, 22, 23, 24, 25, 26, 27, 28, 29, 30, 31]\n",
      "Obtained result:  [0, 1, 2, 3, 4, 5, 6, 7, 1877368968, 9, 10, 11, 1048588, 13, 14, 0, 16, 17, 18, 19, 20, 21, 22, 23, 24, 25, 26, 27, 28, 29, 30, 31]\n",
      "\n",
      "\n"
     ]
    }
   ],
   "source": [
    "clocks = [50, 100, 125, 142, 200]\n",
    "for i in range(0,4):\n",
    "    print(\"Testing \"+\"idata\"+str(i+1)+\".txt\")\n",
    "    f = open(\"expout\"+str(i+1)+\".txt\", \"r\")        # Expected output file\n",
    "    out_crct = []\n",
    "    for line in f.readlines():\n",
    "        out_crct.append(int(line))\n",
    "    for clock in clocks:\n",
    "        ol_cpu = Overlay('overlay/harness_axi.bit')    # Programming the bitstream onto the FPGA\n",
    "        cpu_ip = ol_cpu.harness_axi_ip_v1_0_0          # RISCV CPU Verilog IP\n",
    "        Clocks.fclk1_mhz = clock                       # Set clock frequency in MHz\n",
    "        cpu_ip.write(int(64*4),1)                      # Assign reset to 1\n",
    "        write(\"idata\"+str(i+1)+\".txt\")                 # Write instructions\n",
    "        cpu_ip.write(int(64*4),1)                      # Assign reset to 1\n",
    "        cpu_ip.write(int(64*4),0)                      # Assign reset to 0\n",
    "        out = read()                                   # Read registers\n",
    "        \n",
    "        \n",
    "        # Increase the clock frequency untill timing violations occur\n",
    "        if out==out_crct:                              # Check if expected and obtained register values\n",
    "            print(\"\\t\", \"Frequency at\", clock, \"MHz: Passed\")\n",
    "            clock += 50\n",
    "        else:\n",
    "            print(\"\\t\", \"Frequency at\", clock, \"MHz: Not passed\")\n",
    "#             Use below lines for debug\n",
    "#             print(\"Expected result: \", out_crct)\n",
    "#             print(\"Obtained result: \", out)\n",
    "    print(\"\\n\")\n"
   ]
  },
  {
   "cell_type": "markdown",
   "id": "48d1f45e",
   "metadata": {},
   "source": [
    "## Optional -  Run your own testcases\n",
    "\n",
    "In the snippet below replace `test.s` (line 3) with the name of the file containing your assembly program"
   ]
  },
  {
   "cell_type": "code",
   "execution_count": 5,
   "id": "cb11a5eb",
   "metadata": {},
   "outputs": [
    {
     "name": "stdout",
     "output_type": "stream",
     "text": [
      "------Writing to Text file------\n",
      "Output file: test.txt\n",
      "------Printing Output------\n",
      "0x00000533\n",
      "0x00050733\n",
      "0x00a50613\n",
      "0x000506b3\n",
      "0x00e68733\n",
      "0x00168693\n",
      "0x7cc6cbe3\n",
      "0x00070533\n",
      "0x8027b3ef\n",
      "Number of instructions: 9\n",
      "['00000533', '00050733', '00a50613', '000506b3', '00e68733', '00168693', '7cc6cbe3', '00070533', '8027b3ef']\n"
     ]
    }
   ],
   "source": [
    "import os\n",
    "from riscv_assembler.convert import AssemblyConverter\n",
    "cnv = AssemblyConverter(output_type=\"tp\", hexMode=True)\n",
    "assembly_prog_name=\"test.s\"  # --- Replace with the name of your assembly file \n",
    "top_name=assembly_prog_name.split(\".\")[0]\n",
    "os.system(\"rm -rf \"+top_name+\"/txt/\")\n",
    "cnv.convert(assembly_prog_name)\n",
    "\n",
    "with open(top_name+\"/txt/\"+top_name+\".txt\",'r') as f:\n",
    "    stripped=[]\n",
    "    for line in f:\n",
    "        stripped.append(line[2:-1])\n",
    "\n",
    "with open(top_name+\"/txt/\"+top_name+\".txt\",'w') as f:\n",
    "    for item in stripped:\n",
    "        f.write(item+\"\\n\")\n",
    "\n",
    "print(stripped)"
   ]
  },
  {
   "cell_type": "code",
   "execution_count": 7,
   "id": "233082f3",
   "metadata": {},
   "outputs": [
    {
     "name": "stdout",
     "output_type": "stream",
     "text": [
      "[0, 1, 2, 3, 4, 5, 6, 7, 8, 9, 0, 11, 10, 1, 0, 15, 16, 17, 18, 19, 20, 21, 22, 23, 24, 25, 26, 27, 28, 29, 30, 31]\n"
     ]
    }
   ],
   "source": [
    "# Running assembly on CPU\n",
    "\n",
    "ol_cpu = Overlay('overlay/harness_axi.bit')    # Programming the bitstream onto the FPGA\n",
    "cpu_ip = ol_cpu.harness_axi_ip_v1_0_0          # RISCV CPU Verilog IP\n",
    "Clocks.fclk1_mhz = 50                          # Set clock frequency in MHz\n",
    "cpu_ip.write(int(64*4),1)                      # Assign reset to 1\n",
    "write(\"test/txt/test.txt\")                     # Write instructions\n",
    "cpu_ip.write(int(64*4),1)                      # Assign reset to 1\n",
    "cpu_ip.write(int(64*4),0)                      # Assign reset to 0\n",
    "out = read()                                   # Read registers\n",
    "print(out)"
   ]
  },
  {
   "cell_type": "code",
   "execution_count": null,
   "id": "76bc907e",
   "metadata": {},
   "outputs": [],
   "source": []
  }
 ],
 "metadata": {
  "kernelspec": {
   "display_name": "Python 3",
   "language": "python",
   "name": "python3"
  },
  "language_info": {
   "codemirror_mode": {
    "name": "ipython",
    "version": 3
   },
   "file_extension": ".py",
   "mimetype": "text/x-python",
   "name": "python",
   "nbconvert_exporter": "python",
   "pygments_lexer": "ipython3",
   "version": "3.8.2"
  }
 },
 "nbformat": 4,
 "nbformat_minor": 5
}
